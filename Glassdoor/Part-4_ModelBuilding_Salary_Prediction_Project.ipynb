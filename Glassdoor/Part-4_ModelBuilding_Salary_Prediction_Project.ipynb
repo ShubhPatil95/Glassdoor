{
 "cells": [
  {
   "cell_type": "markdown",
   "metadata": {},
   "source": [
    "# Project Name: Salary Prediction From Scratch To Deployment\n"
   ]
  },
  {
   "cell_type": "markdown",
   "metadata": {},
   "source": [
    "## Part 4 :  Model Building"
   ]
  },
  {
   "cell_type": "code",
   "execution_count": 5,
   "metadata": {},
   "outputs": [],
   "source": [
    "## import libraries\n",
    "import warnings\n",
    "import numpy as np\n",
    "import pandas as pd\n",
    "import seaborn as sns\n",
    "import matplotlib.pyplot as plt\n",
    "warnings.filterwarnings(\"ignore\")"
   ]
  },
  {
   "cell_type": "code",
   "execution_count": 6,
   "metadata": {},
   "outputs": [
    {
     "data": {
      "text/html": [
       "<div>\n",
       "<style scoped>\n",
       "    .dataframe tbody tr th:only-of-type {\n",
       "        vertical-align: middle;\n",
       "    }\n",
       "\n",
       "    .dataframe tbody tr th {\n",
       "        vertical-align: top;\n",
       "    }\n",
       "\n",
       "    .dataframe thead th {\n",
       "        text-align: right;\n",
       "    }\n",
       "</style>\n",
       "<table border=\"1\" class=\"dataframe\">\n",
       "  <thead>\n",
       "    <tr style=\"text-align: right;\">\n",
       "      <th></th>\n",
       "      <th>Headquarter</th>\n",
       "      <th>Size</th>\n",
       "      <th>Founded</th>\n",
       "      <th>Type</th>\n",
       "      <th>Industry</th>\n",
       "      <th>Revenue</th>\n",
       "      <th>Employer</th>\n",
       "      <th>Job_Title</th>\n",
       "      <th>Basic_Pay</th>\n",
       "      <th>Avg_Pay</th>\n",
       "      <th>Rating</th>\n",
       "      <th>Positive</th>\n",
       "      <th>Negative</th>\n",
       "      <th>Neutral</th>\n",
       "      <th>Online</th>\n",
       "      <th>Campus</th>\n",
       "      <th>Refferal</th>\n",
       "      <th>City</th>\n",
       "      <th>Monthly</th>\n",
       "    </tr>\n",
       "  </thead>\n",
       "  <tbody>\n",
       "    <tr>\n",
       "      <th>0</th>\n",
       "      <td>New York</td>\n",
       "      <td>1001 to 5000 Employees</td>\n",
       "      <td>21.0</td>\n",
       "      <td>Private</td>\n",
       "      <td>Consulting</td>\n",
       "      <td>$100 to $500 million (USD)</td>\n",
       "      <td>Fractal</td>\n",
       "      <td>Data Scientist</td>\n",
       "      <td>1596545.0</td>\n",
       "      <td>1675000.0</td>\n",
       "      <td>4.0</td>\n",
       "      <td>72.0</td>\n",
       "      <td>19.0</td>\n",
       "      <td>9.0</td>\n",
       "      <td>48.0</td>\n",
       "      <td>20.0</td>\n",
       "      <td>15.0</td>\n",
       "      <td>Mumbai</td>\n",
       "      <td>No</td>\n",
       "    </tr>\n",
       "    <tr>\n",
       "      <th>1</th>\n",
       "      <td>India</td>\n",
       "      <td>1001 to 5000 Employees</td>\n",
       "      <td>42.0</td>\n",
       "      <td>Private</td>\n",
       "      <td>Real Estate</td>\n",
       "      <td>$10+ billion (USD)</td>\n",
       "      <td>Housing.com</td>\n",
       "      <td>Data Scientist</td>\n",
       "      <td>2320161.0</td>\n",
       "      <td>2320161.0</td>\n",
       "      <td>4.2</td>\n",
       "      <td>54.0</td>\n",
       "      <td>25.0</td>\n",
       "      <td>21.0</td>\n",
       "      <td>31.0</td>\n",
       "      <td>31.0</td>\n",
       "      <td>15.0</td>\n",
       "      <td>Mumbai</td>\n",
       "      <td>No</td>\n",
       "    </tr>\n",
       "    <tr>\n",
       "      <th>2</th>\n",
       "      <td>Morocco</td>\n",
       "      <td>501 to 1000 Employees</td>\n",
       "      <td>8.0</td>\n",
       "      <td>Private</td>\n",
       "      <td>Consulting</td>\n",
       "      <td>$10+ billion (USD)</td>\n",
       "      <td>Quantiphi</td>\n",
       "      <td>Data Scientist</td>\n",
       "      <td>965374.0</td>\n",
       "      <td>1017694.0</td>\n",
       "      <td>3.5</td>\n",
       "      <td>47.0</td>\n",
       "      <td>29.0</td>\n",
       "      <td>24.0</td>\n",
       "      <td>68.0</td>\n",
       "      <td>14.0</td>\n",
       "      <td>10.0</td>\n",
       "      <td>Mumbai</td>\n",
       "      <td>No</td>\n",
       "    </tr>\n",
       "    <tr>\n",
       "      <th>3</th>\n",
       "      <td>India</td>\n",
       "      <td>10000+ Employees</td>\n",
       "      <td>44.0</td>\n",
       "      <td>Public</td>\n",
       "      <td>Government Agencies</td>\n",
       "      <td>$10+ billion (USD)</td>\n",
       "      <td>Reliance Industries</td>\n",
       "      <td>Data Scientist</td>\n",
       "      <td>1864862.0</td>\n",
       "      <td>1922877.0</td>\n",
       "      <td>3.8</td>\n",
       "      <td>77.0</td>\n",
       "      <td>8.0</td>\n",
       "      <td>15.0</td>\n",
       "      <td>60.0</td>\n",
       "      <td>14.0</td>\n",
       "      <td>9.0</td>\n",
       "      <td>Mumbai</td>\n",
       "      <td>No</td>\n",
       "    </tr>\n",
       "    <tr>\n",
       "      <th>4</th>\n",
       "      <td>India</td>\n",
       "      <td>5001 to 10000 Employees</td>\n",
       "      <td>11.0</td>\n",
       "      <td>Private</td>\n",
       "      <td>Cable, Internet &amp; Telephone Providers</td>\n",
       "      <td>$10+ billion (USD)</td>\n",
       "      <td>Jio</td>\n",
       "      <td>Data Scientist</td>\n",
       "      <td>800000.0</td>\n",
       "      <td>800000.0</td>\n",
       "      <td>3.7</td>\n",
       "      <td>63.0</td>\n",
       "      <td>17.0</td>\n",
       "      <td>20.0</td>\n",
       "      <td>44.0</td>\n",
       "      <td>18.0</td>\n",
       "      <td>17.0</td>\n",
       "      <td>Mumbai</td>\n",
       "      <td>No</td>\n",
       "    </tr>\n",
       "  </tbody>\n",
       "</table>\n",
       "</div>"
      ],
      "text/plain": [
       "  Headquarter                     Size  Founded     Type  \\\n",
       "0    New York   1001 to 5000 Employees     21.0  Private   \n",
       "1       India   1001 to 5000 Employees     42.0  Private   \n",
       "2     Morocco    501 to 1000 Employees      8.0  Private   \n",
       "3       India         10000+ Employees     44.0   Public   \n",
       "4       India  5001 to 10000 Employees     11.0  Private   \n",
       "\n",
       "                                Industry                     Revenue  \\\n",
       "0                             Consulting  $100 to $500 million (USD)   \n",
       "1                            Real Estate          $10+ billion (USD)   \n",
       "2                             Consulting          $10+ billion (USD)   \n",
       "3                    Government Agencies          $10+ billion (USD)   \n",
       "4  Cable, Internet & Telephone Providers          $10+ billion (USD)   \n",
       "\n",
       "              Employer       Job_Title  Basic_Pay    Avg_Pay  Rating  \\\n",
       "0              Fractal  Data Scientist  1596545.0  1675000.0     4.0   \n",
       "1          Housing.com  Data Scientist  2320161.0  2320161.0     4.2   \n",
       "2            Quantiphi  Data Scientist   965374.0  1017694.0     3.5   \n",
       "3  Reliance Industries  Data Scientist  1864862.0  1922877.0     3.8   \n",
       "4                  Jio  Data Scientist   800000.0   800000.0     3.7   \n",
       "\n",
       "   Positive  Negative  Neutral  Online  Campus  Refferal    City Monthly  \n",
       "0      72.0      19.0      9.0    48.0    20.0      15.0  Mumbai      No  \n",
       "1      54.0      25.0     21.0    31.0    31.0      15.0  Mumbai      No  \n",
       "2      47.0      29.0     24.0    68.0    14.0      10.0  Mumbai      No  \n",
       "3      77.0       8.0     15.0    60.0    14.0       9.0  Mumbai      No  \n",
       "4      63.0      17.0     20.0    44.0    18.0      17.0  Mumbai      No  "
      ]
     },
     "execution_count": 6,
     "metadata": {},
     "output_type": "execute_result"
    }
   ],
   "source": [
    "## Import dataset\n",
    "\n",
    "df = pd.read_csv('Glassdoor_EDA.csv')\n",
    "\n",
    "# choose relevant columns \n",
    "df.columns\n",
    "df.head()"
   ]
  },
  {
   "cell_type": "code",
   "execution_count": 7,
   "metadata": {},
   "outputs": [
    {
     "data": {
      "text/html": [
       "<div>\n",
       "<style scoped>\n",
       "    .dataframe tbody tr th:only-of-type {\n",
       "        vertical-align: middle;\n",
       "    }\n",
       "\n",
       "    .dataframe tbody tr th {\n",
       "        vertical-align: top;\n",
       "    }\n",
       "\n",
       "    .dataframe thead th {\n",
       "        text-align: right;\n",
       "    }\n",
       "</style>\n",
       "<table border=\"1\" class=\"dataframe\">\n",
       "  <thead>\n",
       "    <tr style=\"text-align: right;\">\n",
       "      <th></th>\n",
       "      <th>Founded</th>\n",
       "      <th>Basic_Pay</th>\n",
       "      <th>Avg_Pay</th>\n",
       "      <th>Rating</th>\n",
       "      <th>Positive</th>\n",
       "      <th>Negative</th>\n",
       "      <th>Neutral</th>\n",
       "      <th>Online</th>\n",
       "      <th>Campus</th>\n",
       "      <th>Refferal</th>\n",
       "    </tr>\n",
       "  </thead>\n",
       "  <tbody>\n",
       "    <tr>\n",
       "      <th>count</th>\n",
       "      <td>714.000000</td>\n",
       "      <td>7.140000e+02</td>\n",
       "      <td>7.140000e+02</td>\n",
       "      <td>714.000000</td>\n",
       "      <td>714.000000</td>\n",
       "      <td>714.000000</td>\n",
       "      <td>714.000000</td>\n",
       "      <td>714.000000</td>\n",
       "      <td>714.000000</td>\n",
       "      <td>714.000000</td>\n",
       "    </tr>\n",
       "    <tr>\n",
       "      <th>mean</th>\n",
       "      <td>39.449580</td>\n",
       "      <td>1.158198e+06</td>\n",
       "      <td>1.142504e+06</td>\n",
       "      <td>3.862132</td>\n",
       "      <td>63.946454</td>\n",
       "      <td>25.777293</td>\n",
       "      <td>20.723147</td>\n",
       "      <td>42.942368</td>\n",
       "      <td>21.658188</td>\n",
       "      <td>13.633166</td>\n",
       "    </tr>\n",
       "    <tr>\n",
       "      <th>std</th>\n",
       "      <td>48.461212</td>\n",
       "      <td>1.024792e+06</td>\n",
       "      <td>9.176172e+05</td>\n",
       "      <td>0.403069</td>\n",
       "      <td>14.512316</td>\n",
       "      <td>19.395020</td>\n",
       "      <td>13.066575</td>\n",
       "      <td>12.683042</td>\n",
       "      <td>6.053931</td>\n",
       "      <td>3.952144</td>\n",
       "    </tr>\n",
       "    <tr>\n",
       "      <th>min</th>\n",
       "      <td>1.000000</td>\n",
       "      <td>1.022200e+04</td>\n",
       "      <td>1.022200e+04</td>\n",
       "      <td>2.200000</td>\n",
       "      <td>13.000000</td>\n",
       "      <td>3.000000</td>\n",
       "      <td>3.000000</td>\n",
       "      <td>11.000000</td>\n",
       "      <td>7.000000</td>\n",
       "      <td>4.000000</td>\n",
       "    </tr>\n",
       "    <tr>\n",
       "      <th>25%</th>\n",
       "      <td>9.000000</td>\n",
       "      <td>4.532731e+05</td>\n",
       "      <td>4.532731e+05</td>\n",
       "      <td>3.600000</td>\n",
       "      <td>56.000000</td>\n",
       "      <td>13.000000</td>\n",
       "      <td>15.000000</td>\n",
       "      <td>34.000000</td>\n",
       "      <td>18.000000</td>\n",
       "      <td>11.000000</td>\n",
       "    </tr>\n",
       "    <tr>\n",
       "      <th>50%</th>\n",
       "      <td>22.000000</td>\n",
       "      <td>9.879825e+05</td>\n",
       "      <td>1.008918e+06</td>\n",
       "      <td>3.800000</td>\n",
       "      <td>64.000000</td>\n",
       "      <td>19.000000</td>\n",
       "      <td>19.000000</td>\n",
       "      <td>42.942368</td>\n",
       "      <td>21.658188</td>\n",
       "      <td>13.633166</td>\n",
       "    </tr>\n",
       "    <tr>\n",
       "      <th>75%</th>\n",
       "      <td>44.000000</td>\n",
       "      <td>1.559598e+06</td>\n",
       "      <td>1.536992e+06</td>\n",
       "      <td>4.100000</td>\n",
       "      <td>70.000000</td>\n",
       "      <td>31.750000</td>\n",
       "      <td>21.000000</td>\n",
       "      <td>49.000000</td>\n",
       "      <td>25.000000</td>\n",
       "      <td>15.000000</td>\n",
       "    </tr>\n",
       "    <tr>\n",
       "      <th>max</th>\n",
       "      <td>351.000000</td>\n",
       "      <td>1.098825e+07</td>\n",
       "      <td>7.392810e+06</td>\n",
       "      <td>5.000000</td>\n",
       "      <td>100.000000</td>\n",
       "      <td>100.000000</td>\n",
       "      <td>100.000000</td>\n",
       "      <td>100.000000</td>\n",
       "      <td>40.000000</td>\n",
       "      <td>25.000000</td>\n",
       "    </tr>\n",
       "  </tbody>\n",
       "</table>\n",
       "</div>"
      ],
      "text/plain": [
       "          Founded     Basic_Pay       Avg_Pay      Rating    Positive  \\\n",
       "count  714.000000  7.140000e+02  7.140000e+02  714.000000  714.000000   \n",
       "mean    39.449580  1.158198e+06  1.142504e+06    3.862132   63.946454   \n",
       "std     48.461212  1.024792e+06  9.176172e+05    0.403069   14.512316   \n",
       "min      1.000000  1.022200e+04  1.022200e+04    2.200000   13.000000   \n",
       "25%      9.000000  4.532731e+05  4.532731e+05    3.600000   56.000000   \n",
       "50%     22.000000  9.879825e+05  1.008918e+06    3.800000   64.000000   \n",
       "75%     44.000000  1.559598e+06  1.536992e+06    4.100000   70.000000   \n",
       "max    351.000000  1.098825e+07  7.392810e+06    5.000000  100.000000   \n",
       "\n",
       "         Negative     Neutral      Online      Campus    Refferal  \n",
       "count  714.000000  714.000000  714.000000  714.000000  714.000000  \n",
       "mean    25.777293   20.723147   42.942368   21.658188   13.633166  \n",
       "std     19.395020   13.066575   12.683042    6.053931    3.952144  \n",
       "min      3.000000    3.000000   11.000000    7.000000    4.000000  \n",
       "25%     13.000000   15.000000   34.000000   18.000000   11.000000  \n",
       "50%     19.000000   19.000000   42.942368   21.658188   13.633166  \n",
       "75%     31.750000   21.000000   49.000000   25.000000   15.000000  \n",
       "max    100.000000  100.000000  100.000000   40.000000   25.000000  "
      ]
     },
     "execution_count": 7,
     "metadata": {},
     "output_type": "execute_result"
    }
   ],
   "source": [
    "df.describe()"
   ]
  },
  {
   "cell_type": "markdown",
   "metadata": {},
   "source": [
    "### Outlier Detection"
   ]
  },
  {
   "cell_type": "code",
   "execution_count": 8,
   "metadata": {},
   "outputs": [
    {
     "data": {
      "text/plain": [
       "<matplotlib.axes._subplots.AxesSubplot at 0x2909b71eaf0>"
      ]
     },
     "execution_count": 8,
     "metadata": {},
     "output_type": "execute_result"
    },
    {
     "data": {
      "image/png": "[encoded data removed]",
      "text/plain": [
       "<Figure size 432x288 with 6 Axes>"
      ]
     },
     "metadata": {
      "needs_background": "light"
     },
     "output_type": "display_data"
    }
   ],
   "source": [
    "fig,axes=plt.subplots(2,3)\n",
    "sns.boxplot(df.Founded,orient=\"v\",ax=axes[0,0])\n",
    "sns.boxplot(df.Basic_Pay,orient=\"v\",ax=axes[0,1])\n",
    "sns.boxplot(df.Avg_Pay,orient=\"v\",ax=axes[0,2])\n",
    "\n",
    "# fig,axes=plt.subplots(1,3)\n",
    "sns.distplot(df.Founded,ax=axes[1,0])\n",
    "sns.distplot(df.Basic_Pay,ax=axes[1,1])\n",
    "sns.distplot(df.Avg_Pay,ax=axes[1,2])"
   ]
  },
  {
   "cell_type": "code",
   "execution_count": 9,
   "metadata": {},
   "outputs": [],
   "source": [
    "df1=df.copy()\n",
    "\n",
    "## Founded Column\n",
    "df1[\"Founded_ZScore\"]=(df1.Founded-df1.Founded.mean())/df1.Founded.std()\n",
    "df2=df1[(df1.Founded_ZScore<3)]\n",
    "df2.drop(\"Founded_ZScore\",axis=1,inplace=True)\n",
    "\n",
    "## Basic_Pay Column\n",
    "df2[\"Basic_Pay_ZScore\"]=(df2.Basic_Pay-df2.Basic_Pay.mean())/df2.Basic_Pay.std()\n",
    "df3=df2[(df2.Basic_Pay_ZScore<3)]\n",
    "df3.drop(\"Basic_Pay_ZScore\",axis=1,inplace=True)\n",
    "\n",
    "## Avg_Pay Column\n",
    "df3[\"Avg_Pay_ZScore\"]=(df3.Avg_Pay-df3.Avg_Pay.mean())/df3.Avg_Pay.std()\n",
    "df4=df3[(df3.Avg_Pay_ZScore<3)]\n",
    "df4.drop(\"Avg_Pay_ZScore\",axis=1,inplace=True)\n",
    "df=df4.copy()"
   ]
  },
  {
   "cell_type": "code",
   "execution_count": 10,
   "metadata": {},
   "outputs": [
    {
     "data": {
      "text/plain": [
       "<matplotlib.axes._subplots.AxesSubplot at 0x2909ba2db50>"
      ]
     },
     "execution_count": 10,
     "metadata": {},
     "output_type": "execute_result"
    },
    {
     "data": {
      "image/png": "[encoded data removed]",
      "text/plain": [
       "<Figure size 432x288 with 3 Axes>"
      ]
     },
     "metadata": {
      "needs_background": "light"
     },
     "output_type": "display_data"
    }
   ],
   "source": [
    "fig,axes=plt.subplots(1,3)\n",
    "sns.distplot(df.Founded,ax=axes[0])\n",
    "sns.distplot(df.Basic_Pay,ax=axes[1])\n",
    "sns.distplot(df.Avg_Pay,ax=axes[2])"
   ]
  },
  {
   "cell_type": "code",
   "execution_count": 11,
   "metadata": {},
   "outputs": [
    {
     "data": {
      "text/plain": [
       "<matplotlib.axes._subplots.AxesSubplot at 0x2909b96f070>"
      ]
     },
     "execution_count": 11,
     "metadata": {},
     "output_type": "execute_result"
    },
    {
     "data": {
      "image/png": "[encoded data removed]",
      "text/plain": [
       "<Figure size 432x288 with 2 Axes>"
      ]
     },
     "metadata": {
      "needs_background": "light"
     },
     "output_type": "display_data"
    }
   ],
   "source": [
    "sns.heatmap(df.corr(),annot=True)"
   ]
  },
  {
   "cell_type": "code",
   "execution_count": 12,
   "metadata": {},
   "outputs": [],
   "source": [
    "## select the relevent features for model building after many trails and using recursive feature elimitation techniuque \n",
    "df_model=df[[\"Size\",\"Founded\",\"Type\",\"Industry\",\"Revenue\",\"Basic_Pay\",\"Avg_Pay\",\"Rating\",\"Positive\",\"Online\",\"City\"]]"
   ]
  },
  {
   "cell_type": "markdown",
   "metadata": {},
   "source": [
    "### Label Encoding"
   ]
  },
  {
   "cell_type": "code",
   "execution_count": 13,
   "metadata": {},
   "outputs": [],
   "source": [
    "## Label Encoding For Ordinal Categorical Features\n",
    "\n",
    "Size_encoding=dict(zip(['1 to 50 Employees','51 to 200 Employees','201 to 500 Employees','501 to 1000 Employees',\n",
    "            \"1001 to 5000 Employees\",'5001 to 10000 Employees','10000+ Employees'],[1,2,3,4,5,6,7]))\n",
    "df_model.Size.replace(Size_encoding,inplace=True)\n",
    "\n",
    "Revenue_encoding=dict(zip(['Less than $1 million (USD)','$1 to $5 million (USD)','$5 to $10 million (USD)','$10 to $25 million (USD)','$25 to $50 million (USD)',\n",
    " '$50 to $100 million (USD)','$100 to $500 million (USD)','$500 million to $1 billion (USD)','$1 to $2 billion (USD)',\n",
    " '$2 to $5 billion (USD)','$5 to $10 billion (USD)','$10+ billion (USD)'],[1,2,3,4,5,6,7,8,9,10,11,12]))\n",
    "df_model.Revenue.replace(Revenue_encoding,inplace=True)\n",
    "\n",
    "df_model.Type.replace({\"Private\":1,\"Public\":0},inplace=True)"
   ]
  },
  {
   "cell_type": "markdown",
   "metadata": {},
   "source": [
    "### One Hot Encoding"
   ]
  },
  {
   "cell_type": "code",
   "execution_count": 14,
   "metadata": {},
   "outputs": [
    {
     "data": {
      "text/plain": [
       "(685, 26)"
      ]
     },
     "execution_count": 14,
     "metadata": {},
     "output_type": "execute_result"
    }
   ],
   "source": [
    "df_dum = pd.get_dummies(df_model)\n",
    "df_dum.shape"
   ]
  },
  {
   "cell_type": "code",
   "execution_count": 15,
   "metadata": {},
   "outputs": [
    {
     "data": {
      "text/html": [
       "<div>\n",
       "<style scoped>\n",
       "    .dataframe tbody tr th:only-of-type {\n",
       "        vertical-align: middle;\n",
       "    }\n",
       "\n",
       "    .dataframe tbody tr th {\n",
       "        vertical-align: top;\n",
       "    }\n",
       "\n",
       "    .dataframe thead th {\n",
       "        text-align: right;\n",
       "    }\n",
       "</style>\n",
       "<table border=\"1\" class=\"dataframe\">\n",
       "  <thead>\n",
       "    <tr style=\"text-align: right;\">\n",
       "      <th></th>\n",
       "      <th>Size</th>\n",
       "      <th>Founded</th>\n",
       "      <th>Type</th>\n",
       "      <th>Revenue</th>\n",
       "      <th>Basic_Pay</th>\n",
       "      <th>Avg_Pay</th>\n",
       "      <th>Rating</th>\n",
       "      <th>Positive</th>\n",
       "      <th>Online</th>\n",
       "      <th>Industry_Banking/Finance</th>\n",
       "      <th>...</th>\n",
       "      <th>Industry_Healthcare Medicine</th>\n",
       "      <th>Industry_Information Technology</th>\n",
       "      <th>Industry_Manufacturing</th>\n",
       "      <th>Industry_Outsource</th>\n",
       "      <th>Industry_Real Estate</th>\n",
       "      <th>Industry_Telecommunication/Television</th>\n",
       "      <th>Industry_Transportation</th>\n",
       "      <th>City_Banglore</th>\n",
       "      <th>City_Mumbai</th>\n",
       "      <th>City_Pune</th>\n",
       "    </tr>\n",
       "  </thead>\n",
       "  <tbody>\n",
       "    <tr>\n",
       "      <th>0</th>\n",
       "      <td>5</td>\n",
       "      <td>21.0</td>\n",
       "      <td>1</td>\n",
       "      <td>7</td>\n",
       "      <td>1596545.0</td>\n",
       "      <td>1675000.0</td>\n",
       "      <td>4.0</td>\n",
       "      <td>72.0</td>\n",
       "      <td>48.0</td>\n",
       "      <td>0</td>\n",
       "      <td>...</td>\n",
       "      <td>0</td>\n",
       "      <td>0</td>\n",
       "      <td>0</td>\n",
       "      <td>0</td>\n",
       "      <td>0</td>\n",
       "      <td>0</td>\n",
       "      <td>0</td>\n",
       "      <td>0</td>\n",
       "      <td>1</td>\n",
       "      <td>0</td>\n",
       "    </tr>\n",
       "    <tr>\n",
       "      <th>1</th>\n",
       "      <td>5</td>\n",
       "      <td>42.0</td>\n",
       "      <td>1</td>\n",
       "      <td>12</td>\n",
       "      <td>2320161.0</td>\n",
       "      <td>2320161.0</td>\n",
       "      <td>4.2</td>\n",
       "      <td>54.0</td>\n",
       "      <td>31.0</td>\n",
       "      <td>0</td>\n",
       "      <td>...</td>\n",
       "      <td>0</td>\n",
       "      <td>0</td>\n",
       "      <td>0</td>\n",
       "      <td>0</td>\n",
       "      <td>1</td>\n",
       "      <td>0</td>\n",
       "      <td>0</td>\n",
       "      <td>0</td>\n",
       "      <td>1</td>\n",
       "      <td>0</td>\n",
       "    </tr>\n",
       "    <tr>\n",
       "      <th>2</th>\n",
       "      <td>4</td>\n",
       "      <td>8.0</td>\n",
       "      <td>1</td>\n",
       "      <td>12</td>\n",
       "      <td>965374.0</td>\n",
       "      <td>1017694.0</td>\n",
       "      <td>3.5</td>\n",
       "      <td>47.0</td>\n",
       "      <td>68.0</td>\n",
       "      <td>0</td>\n",
       "      <td>...</td>\n",
       "      <td>0</td>\n",
       "      <td>0</td>\n",
       "      <td>0</td>\n",
       "      <td>0</td>\n",
       "      <td>0</td>\n",
       "      <td>0</td>\n",
       "      <td>0</td>\n",
       "      <td>0</td>\n",
       "      <td>1</td>\n",
       "      <td>0</td>\n",
       "    </tr>\n",
       "    <tr>\n",
       "      <th>3</th>\n",
       "      <td>7</td>\n",
       "      <td>44.0</td>\n",
       "      <td>0</td>\n",
       "      <td>12</td>\n",
       "      <td>1864862.0</td>\n",
       "      <td>1922877.0</td>\n",
       "      <td>3.8</td>\n",
       "      <td>77.0</td>\n",
       "      <td>60.0</td>\n",
       "      <td>0</td>\n",
       "      <td>...</td>\n",
       "      <td>0</td>\n",
       "      <td>0</td>\n",
       "      <td>0</td>\n",
       "      <td>0</td>\n",
       "      <td>0</td>\n",
       "      <td>0</td>\n",
       "      <td>0</td>\n",
       "      <td>0</td>\n",
       "      <td>1</td>\n",
       "      <td>0</td>\n",
       "    </tr>\n",
       "    <tr>\n",
       "      <th>4</th>\n",
       "      <td>6</td>\n",
       "      <td>11.0</td>\n",
       "      <td>1</td>\n",
       "      <td>12</td>\n",
       "      <td>800000.0</td>\n",
       "      <td>800000.0</td>\n",
       "      <td>3.7</td>\n",
       "      <td>63.0</td>\n",
       "      <td>44.0</td>\n",
       "      <td>0</td>\n",
       "      <td>...</td>\n",
       "      <td>0</td>\n",
       "      <td>0</td>\n",
       "      <td>0</td>\n",
       "      <td>0</td>\n",
       "      <td>0</td>\n",
       "      <td>0</td>\n",
       "      <td>0</td>\n",
       "      <td>0</td>\n",
       "      <td>1</td>\n",
       "      <td>0</td>\n",
       "    </tr>\n",
       "  </tbody>\n",
       "</table>\n",
       "<p>5 rows × 26 columns</p>\n",
       "</div>"
      ],
      "text/plain": [
       "   Size  Founded  Type  Revenue  Basic_Pay    Avg_Pay  Rating  Positive  \\\n",
       "0     5     21.0     1        7  1596545.0  1675000.0     4.0      72.0   \n",
       "1     5     42.0     1       12  2320161.0  2320161.0     4.2      54.0   \n",
       "2     4      8.0     1       12   965374.0  1017694.0     3.5      47.0   \n",
       "3     7     44.0     0       12  1864862.0  1922877.0     3.8      77.0   \n",
       "4     6     11.0     1       12   800000.0   800000.0     3.7      63.0   \n",
       "\n",
       "   Online  Industry_Banking/Finance  ...  Industry_Healthcare Medicine  \\\n",
       "0    48.0                         0  ...                             0   \n",
       "1    31.0                         0  ...                             0   \n",
       "2    68.0                         0  ...                             0   \n",
       "3    60.0                         0  ...                             0   \n",
       "4    44.0                         0  ...                             0   \n",
       "\n",
       "   Industry_Information Technology  Industry_Manufacturing  \\\n",
       "0                                0                       0   \n",
       "1                                0                       0   \n",
       "2                                0                       0   \n",
       "3                                0                       0   \n",
       "4                                0                       0   \n",
       "\n",
       "   Industry_Outsource  Industry_Real Estate  \\\n",
       "0                   0                     0   \n",
       "1                   0                     1   \n",
       "2                   0                     0   \n",
       "3                   0                     0   \n",
       "4                   0                     0   \n",
       "\n",
       "   Industry_Telecommunication/Television  Industry_Transportation  \\\n",
       "0                                      0                        0   \n",
       "1                                      0                        0   \n",
       "2                                      0                        0   \n",
       "3                                      0                        0   \n",
       "4                                      0                        0   \n",
       "\n",
       "   City_Banglore  City_Mumbai  City_Pune  \n",
       "0              0            1          0  \n",
       "1              0            1          0  \n",
       "2              0            1          0  \n",
       "3              0            1          0  \n",
       "4              0            1          0  \n",
       "\n",
       "[5 rows x 26 columns]"
      ]
     },
     "execution_count": 15,
     "metadata": {},
     "output_type": "execute_result"
    }
   ],
   "source": [
    "df_dum.head()"
   ]
  },
  {
   "cell_type": "markdown",
   "metadata": {},
   "source": [
    "### Train_Test_Split & Scaling"
   ]
  },
  {
   "cell_type": "code",
   "execution_count": 16,
   "metadata": {},
   "outputs": [],
   "source": [
    "from sklearn.model_selection import train_test_split\n",
    "X = df_dum.drop('Avg_Pay', axis =1)\n",
    "y = df_dum.Avg_Pay.values\n",
    "X_train, X_test, y_train, y_test = train_test_split(X, y, test_size=0.2, random_state=42)\n",
    "from sklearn.preprocessing import StandardScaler\n",
    "scaler = StandardScaler()\n",
    "X_train=scaler.fit_transform(X_train)\n",
    "X_test=scaler.transform(X_test)"
   ]
  },
  {
   "cell_type": "code",
   "execution_count": 18,
   "metadata": {},
   "outputs": [
    {
     "data": {
      "text/html": [
       "<div>\n",
       "<style scoped>\n",
       "    .dataframe tbody tr th:only-of-type {\n",
       "        vertical-align: middle;\n",
       "    }\n",
       "\n",
       "    .dataframe tbody tr th {\n",
       "        vertical-align: top;\n",
       "    }\n",
       "\n",
       "    .dataframe thead th {\n",
       "        text-align: right;\n",
       "    }\n",
       "</style>\n",
       "<table border=\"1\" class=\"dataframe\">\n",
       "  <thead>\n",
       "    <tr style=\"text-align: right;\">\n",
       "      <th></th>\n",
       "      <th>Size</th>\n",
       "      <th>Founded</th>\n",
       "      <th>Type</th>\n",
       "      <th>Revenue</th>\n",
       "      <th>Basic_Pay</th>\n",
       "      <th>Rating</th>\n",
       "      <th>Positive</th>\n",
       "      <th>Online</th>\n",
       "      <th>Industry_Banking/Finance</th>\n",
       "      <th>Industry_Cable, Internet &amp; Telephone Providers</th>\n",
       "      <th>...</th>\n",
       "      <th>Industry_Healthcare Medicine</th>\n",
       "      <th>Industry_Information Technology</th>\n",
       "      <th>Industry_Manufacturing</th>\n",
       "      <th>Industry_Outsource</th>\n",
       "      <th>Industry_Real Estate</th>\n",
       "      <th>Industry_Telecommunication/Television</th>\n",
       "      <th>Industry_Transportation</th>\n",
       "      <th>City_Banglore</th>\n",
       "      <th>City_Mumbai</th>\n",
       "      <th>City_Pune</th>\n",
       "    </tr>\n",
       "  </thead>\n",
       "  <tbody>\n",
       "    <tr>\n",
       "      <th>0</th>\n",
       "      <td>5</td>\n",
       "      <td>21.0</td>\n",
       "      <td>1</td>\n",
       "      <td>7</td>\n",
       "      <td>1596545.0</td>\n",
       "      <td>4.0</td>\n",
       "      <td>72.0</td>\n",
       "      <td>48.0</td>\n",
       "      <td>0</td>\n",
       "      <td>0</td>\n",
       "      <td>...</td>\n",
       "      <td>0</td>\n",
       "      <td>0</td>\n",
       "      <td>0</td>\n",
       "      <td>0</td>\n",
       "      <td>0</td>\n",
       "      <td>0</td>\n",
       "      <td>0</td>\n",
       "      <td>0</td>\n",
       "      <td>1</td>\n",
       "      <td>0</td>\n",
       "    </tr>\n",
       "    <tr>\n",
       "      <th>1</th>\n",
       "      <td>5</td>\n",
       "      <td>42.0</td>\n",
       "      <td>1</td>\n",
       "      <td>12</td>\n",
       "      <td>2320161.0</td>\n",
       "      <td>4.2</td>\n",
       "      <td>54.0</td>\n",
       "      <td>31.0</td>\n",
       "      <td>0</td>\n",
       "      <td>0</td>\n",
       "      <td>...</td>\n",
       "      <td>0</td>\n",
       "      <td>0</td>\n",
       "      <td>0</td>\n",
       "      <td>0</td>\n",
       "      <td>1</td>\n",
       "      <td>0</td>\n",
       "      <td>0</td>\n",
       "      <td>0</td>\n",
       "      <td>1</td>\n",
       "      <td>0</td>\n",
       "    </tr>\n",
       "    <tr>\n",
       "      <th>2</th>\n",
       "      <td>4</td>\n",
       "      <td>8.0</td>\n",
       "      <td>1</td>\n",
       "      <td>12</td>\n",
       "      <td>965374.0</td>\n",
       "      <td>3.5</td>\n",
       "      <td>47.0</td>\n",
       "      <td>68.0</td>\n",
       "      <td>0</td>\n",
       "      <td>0</td>\n",
       "      <td>...</td>\n",
       "      <td>0</td>\n",
       "      <td>0</td>\n",
       "      <td>0</td>\n",
       "      <td>0</td>\n",
       "      <td>0</td>\n",
       "      <td>0</td>\n",
       "      <td>0</td>\n",
       "      <td>0</td>\n",
       "      <td>1</td>\n",
       "      <td>0</td>\n",
       "    </tr>\n",
       "    <tr>\n",
       "      <th>3</th>\n",
       "      <td>7</td>\n",
       "      <td>44.0</td>\n",
       "      <td>0</td>\n",
       "      <td>12</td>\n",
       "      <td>1864862.0</td>\n",
       "      <td>3.8</td>\n",
       "      <td>77.0</td>\n",
       "      <td>60.0</td>\n",
       "      <td>0</td>\n",
       "      <td>0</td>\n",
       "      <td>...</td>\n",
       "      <td>0</td>\n",
       "      <td>0</td>\n",
       "      <td>0</td>\n",
       "      <td>0</td>\n",
       "      <td>0</td>\n",
       "      <td>0</td>\n",
       "      <td>0</td>\n",
       "      <td>0</td>\n",
       "      <td>1</td>\n",
       "      <td>0</td>\n",
       "    </tr>\n",
       "    <tr>\n",
       "      <th>4</th>\n",
       "      <td>6</td>\n",
       "      <td>11.0</td>\n",
       "      <td>1</td>\n",
       "      <td>12</td>\n",
       "      <td>800000.0</td>\n",
       "      <td>3.7</td>\n",
       "      <td>63.0</td>\n",
       "      <td>44.0</td>\n",
       "      <td>0</td>\n",
       "      <td>1</td>\n",
       "      <td>...</td>\n",
       "      <td>0</td>\n",
       "      <td>0</td>\n",
       "      <td>0</td>\n",
       "      <td>0</td>\n",
       "      <td>0</td>\n",
       "      <td>0</td>\n",
       "      <td>0</td>\n",
       "      <td>0</td>\n",
       "      <td>1</td>\n",
       "      <td>0</td>\n",
       "    </tr>\n",
       "  </tbody>\n",
       "</table>\n",
       "<p>5 rows × 25 columns</p>\n",
       "</div>"
      ],
      "text/plain": [
       "   Size  Founded  Type  Revenue  Basic_Pay  Rating  Positive  Online  \\\n",
       "0     5     21.0     1        7  1596545.0     4.0      72.0    48.0   \n",
       "1     5     42.0     1       12  2320161.0     4.2      54.0    31.0   \n",
       "2     4      8.0     1       12   965374.0     3.5      47.0    68.0   \n",
       "3     7     44.0     0       12  1864862.0     3.8      77.0    60.0   \n",
       "4     6     11.0     1       12   800000.0     3.7      63.0    44.0   \n",
       "\n",
       "   Industry_Banking/Finance  Industry_Cable, Internet & Telephone Providers  \\\n",
       "0                         0                                               0   \n",
       "1                         0                                               0   \n",
       "2                         0                                               0   \n",
       "3                         0                                               0   \n",
       "4                         0                                               1   \n",
       "\n",
       "   ...  Industry_Healthcare Medicine  Industry_Information Technology  \\\n",
       "0  ...                             0                                0   \n",
       "1  ...                             0                                0   \n",
       "2  ...                             0                                0   \n",
       "3  ...                             0                                0   \n",
       "4  ...                             0                                0   \n",
       "\n",
       "   Industry_Manufacturing  Industry_Outsource  Industry_Real Estate  \\\n",
       "0                       0                   0                     0   \n",
       "1                       0                   0                     1   \n",
       "2                       0                   0                     0   \n",
       "3                       0                   0                     0   \n",
       "4                       0                   0                     0   \n",
       "\n",
       "   Industry_Telecommunication/Television  Industry_Transportation  \\\n",
       "0                                      0                        0   \n",
       "1                                      0                        0   \n",
       "2                                      0                        0   \n",
       "3                                      0                        0   \n",
       "4                                      0                        0   \n",
       "\n",
       "   City_Banglore  City_Mumbai  City_Pune  \n",
       "0              0            1          0  \n",
       "1              0            1          0  \n",
       "2              0            1          0  \n",
       "3              0            1          0  \n",
       "4              0            1          0  \n",
       "\n",
       "[5 rows x 25 columns]"
      ]
     },
     "execution_count": 18,
     "metadata": {},
     "output_type": "execute_result"
    }
   ],
   "source": [
    "X.head()"
   ]
  },
  {
   "cell_type": "markdown",
   "metadata": {},
   "source": [
    "### OLS Regression(statsmodels)"
   ]
  },
  {
   "cell_type": "code",
   "execution_count": 14,
   "metadata": {},
   "outputs": [
    {
     "data": {
      "text/html": [
       "<table class=\"simpletable\">\n",
       "<caption>OLS Regression Results</caption>\n",
       "<tr>\n",
       "  <th>Dep. Variable:</th>            <td>y</td>        <th>  R-squared:         </th> <td>   0.954</td> \n",
       "</tr>\n",
       "<tr>\n",
       "  <th>Model:</th>                   <td>OLS</td>       <th>  Adj. R-squared:    </th> <td>   0.952</td> \n",
       "</tr>\n",
       "<tr>\n",
       "  <th>Method:</th>             <td>Least Squares</td>  <th>  F-statistic:       </th> <td>   597.3</td> \n",
       "</tr>\n",
       "<tr>\n",
       "  <th>Date:</th>             <td>Sat, 19 Jun 2021</td> <th>  Prob (F-statistic):</th>  <td>  0.00</td>  \n",
       "</tr>\n",
       "<tr>\n",
       "  <th>Time:</th>                 <td>22:15:30</td>     <th>  Log-Likelihood:    </th> <td> -9187.0</td> \n",
       "</tr>\n",
       "<tr>\n",
       "  <th>No. Observations:</th>      <td>   685</td>      <th>  AIC:               </th> <td>1.842e+04</td>\n",
       "</tr>\n",
       "<tr>\n",
       "  <th>Df Residuals:</th>          <td>   661</td>      <th>  BIC:               </th> <td>1.853e+04</td>\n",
       "</tr>\n",
       "<tr>\n",
       "  <th>Df Model:</th>              <td>    23</td>      <th>                     </th>     <td> </td>    \n",
       "</tr>\n",
       "<tr>\n",
       "  <th>Covariance Type:</th>      <td>nonrobust</td>    <th>                     </th>     <td> </td>    \n",
       "</tr>\n",
       "</table>\n",
       "<table class=\"simpletable\">\n",
       "<tr>\n",
       "                         <td></td>                           <th>coef</th>     <th>std err</th>      <th>t</th>      <th>P>|t|</th>  <th>[0.025</th>    <th>0.975]</th>  \n",
       "</tr>\n",
       "<tr>\n",
       "  <th>const</th>                                          <td>-9.659e+04</td> <td> 5.97e+04</td> <td>   -1.618</td> <td> 0.106</td> <td>-2.14e+05</td> <td> 2.06e+04</td>\n",
       "</tr>\n",
       "<tr>\n",
       "  <th>Size</th>                                           <td>-3524.5846</td> <td> 4812.685</td> <td>   -0.732</td> <td> 0.464</td> <td> -1.3e+04</td> <td> 5925.407</td>\n",
       "</tr>\n",
       "<tr>\n",
       "  <th>Founded</th>                                        <td>  294.6084</td> <td>  216.203</td> <td>    1.363</td> <td> 0.173</td> <td> -129.919</td> <td>  719.136</td>\n",
       "</tr>\n",
       "<tr>\n",
       "  <th>Type</th>                                           <td>  599.3906</td> <td> 1.72e+04</td> <td>    0.035</td> <td> 0.972</td> <td>-3.32e+04</td> <td> 3.44e+04</td>\n",
       "</tr>\n",
       "<tr>\n",
       "  <th>Revenue</th>                                        <td>  965.5019</td> <td> 2703.423</td> <td>    0.357</td> <td> 0.721</td> <td>-4342.829</td> <td> 6273.833</td>\n",
       "</tr>\n",
       "<tr>\n",
       "  <th>Basic_Pay</th>                                      <td>    0.9772</td> <td>    0.009</td> <td>  111.807</td> <td> 0.000</td> <td>    0.960</td> <td>    0.994</td>\n",
       "</tr>\n",
       "<tr>\n",
       "  <th>Rating</th>                                         <td> 3.999e+04</td> <td> 1.62e+04</td> <td>    2.464</td> <td> 0.014</td> <td> 8121.349</td> <td> 7.19e+04</td>\n",
       "</tr>\n",
       "<tr>\n",
       "  <th>Positive</th>                                       <td>  416.4228</td> <td>  455.901</td> <td>    0.913</td> <td> 0.361</td> <td> -478.766</td> <td> 1311.612</td>\n",
       "</tr>\n",
       "<tr>\n",
       "  <th>Online</th>                                         <td>   56.2927</td> <td>  541.623</td> <td>    0.104</td> <td> 0.917</td> <td>-1007.217</td> <td> 1119.803</td>\n",
       "</tr>\n",
       "<tr>\n",
       "  <th>Industry_Banking/Finance</th>                       <td>-5.444e+04</td> <td> 2.23e+04</td> <td>   -2.445</td> <td> 0.015</td> <td>-9.81e+04</td> <td>-1.07e+04</td>\n",
       "</tr>\n",
       "<tr>\n",
       "  <th>Industry_Cable, Internet & Telephone Providers</th> <td> 6697.0360</td> <td> 7.86e+04</td> <td>    0.085</td> <td> 0.932</td> <td>-1.48e+05</td> <td> 1.61e+05</td>\n",
       "</tr>\n",
       "<tr>\n",
       "  <th>Industry_Consulting</th>                            <td>-1.485e+04</td> <td> 2.43e+04</td> <td>   -0.611</td> <td> 0.541</td> <td>-6.26e+04</td> <td> 3.29e+04</td>\n",
       "</tr>\n",
       "<tr>\n",
       "  <th>Industry_Education</th>                             <td>-1.052e+04</td> <td> 5.12e+04</td> <td>   -0.206</td> <td> 0.837</td> <td>-1.11e+05</td> <td> 8.99e+04</td>\n",
       "</tr>\n",
       "<tr>\n",
       "  <th>Industry_Film Production & Distribution</th>        <td> 5.333e+04</td> <td> 7.92e+04</td> <td>    0.674</td> <td> 0.501</td> <td>-1.02e+05</td> <td> 2.09e+05</td>\n",
       "</tr>\n",
       "<tr>\n",
       "  <th>Industry_General Merchandise & Superstores</th>     <td> 2.063e+05</td> <td> 9.18e+04</td> <td>    2.248</td> <td> 0.025</td> <td> 2.61e+04</td> <td> 3.87e+05</td>\n",
       "</tr>\n",
       "<tr>\n",
       "  <th>Industry_Government Agencies</th>                   <td>-2.074e+04</td> <td>  3.4e+04</td> <td>   -0.611</td> <td> 0.542</td> <td>-8.74e+04</td> <td> 4.59e+04</td>\n",
       "</tr>\n",
       "<tr>\n",
       "  <th>Industry_Healthcare Medicine</th>                   <td>-4.668e+04</td> <td>  3.8e+04</td> <td>   -1.229</td> <td> 0.220</td> <td>-1.21e+05</td> <td> 2.79e+04</td>\n",
       "</tr>\n",
       "<tr>\n",
       "  <th>Industry_Information Technology</th>                <td>-3.284e+04</td> <td> 1.68e+04</td> <td>   -1.956</td> <td> 0.051</td> <td>-6.58e+04</td> <td>  129.146</td>\n",
       "</tr>\n",
       "<tr>\n",
       "  <th>Industry_Manufacturing</th>                         <td>-2.983e+04</td> <td> 2.75e+04</td> <td>   -1.085</td> <td> 0.278</td> <td>-8.38e+04</td> <td> 2.42e+04</td>\n",
       "</tr>\n",
       "<tr>\n",
       "  <th>Industry_Outsource</th>                             <td>-9754.0508</td> <td> 3.63e+04</td> <td>   -0.268</td> <td> 0.788</td> <td>-8.11e+04</td> <td> 6.16e+04</td>\n",
       "</tr>\n",
       "<tr>\n",
       "  <th>Industry_Real Estate</th>                           <td>-3.852e+04</td> <td> 7.86e+04</td> <td>   -0.490</td> <td> 0.624</td> <td>-1.93e+05</td> <td> 1.16e+05</td>\n",
       "</tr>\n",
       "<tr>\n",
       "  <th>Industry_Telecommunication/Television</th>          <td>-3.895e+04</td> <td> 5.13e+04</td> <td>   -0.760</td> <td> 0.448</td> <td> -1.4e+05</td> <td> 6.17e+04</td>\n",
       "</tr>\n",
       "<tr>\n",
       "  <th>Industry_Transportation</th>                        <td>-6.581e+04</td> <td> 4.16e+04</td> <td>   -1.581</td> <td> 0.114</td> <td>-1.48e+05</td> <td> 1.59e+04</td>\n",
       "</tr>\n",
       "<tr>\n",
       "  <th>City_Banglore</th>                                  <td>-1.541e+04</td> <td> 2.15e+04</td> <td>   -0.718</td> <td> 0.473</td> <td>-5.76e+04</td> <td> 2.67e+04</td>\n",
       "</tr>\n",
       "<tr>\n",
       "  <th>City_Mumbai</th>                                    <td>-2.305e+04</td> <td> 2.23e+04</td> <td>   -1.036</td> <td> 0.301</td> <td>-6.68e+04</td> <td> 2.06e+04</td>\n",
       "</tr>\n",
       "<tr>\n",
       "  <th>City_Pune</th>                                      <td>-5.812e+04</td> <td> 2.41e+04</td> <td>   -2.409</td> <td> 0.016</td> <td>-1.05e+05</td> <td>-1.08e+04</td>\n",
       "</tr>\n",
       "</table>\n",
       "<table class=\"simpletable\">\n",
       "<tr>\n",
       "  <th>Omnibus:</th>       <td>544.718</td> <th>  Durbin-Watson:     </th> <td>   1.992</td> \n",
       "</tr>\n",
       "<tr>\n",
       "  <th>Prob(Omnibus):</th> <td> 0.000</td>  <th>  Jarque-Bera (JB):  </th> <td>54704.096</td>\n",
       "</tr>\n",
       "<tr>\n",
       "  <th>Skew:</th>          <td>-2.835</td>  <th>  Prob(JB):          </th> <td>    0.00</td> \n",
       "</tr>\n",
       "<tr>\n",
       "  <th>Kurtosis:</th>      <td>46.411</td>  <th>  Cond. No.          </th> <td>5.79e+21</td> \n",
       "</tr>\n",
       "</table><br/><br/>Warnings:<br/>[1] Standard Errors assume that the covariance matrix of the errors is correctly specified.<br/>[2] The smallest eigenvalue is 3.39e-29. This might indicate that there are<br/>strong multicollinearity problems or that the design matrix is singular."
      ],
      "text/plain": [
       "<class 'statsmodels.iolib.summary.Summary'>\n",
       "\"\"\"\n",
       "                            OLS Regression Results                            \n",
       "==============================================================================\n",
       "Dep. Variable:                      y   R-squared:                       0.954\n",
       "Model:                            OLS   Adj. R-squared:                  0.952\n",
       "Method:                 Least Squares   F-statistic:                     597.3\n",
       "Date:                Sat, 19 Jun 2021   Prob (F-statistic):               0.00\n",
       "Time:                        22:15:30   Log-Likelihood:                -9187.0\n",
       "No. Observations:                 685   AIC:                         1.842e+04\n",
       "Df Residuals:                     661   BIC:                         1.853e+04\n",
       "Df Model:                          23                                         \n",
       "Covariance Type:            nonrobust                                         \n",
       "==================================================================================================================\n",
       "                                                     coef    std err          t      P>|t|      [0.025      0.975]\n",
       "------------------------------------------------------------------------------------------------------------------\n",
       "const                                          -9.659e+04   5.97e+04     -1.618      0.106   -2.14e+05    2.06e+04\n",
       "Size                                           -3524.5846   4812.685     -0.732      0.464    -1.3e+04    5925.407\n",
       "Founded                                          294.6084    216.203      1.363      0.173    -129.919     719.136\n",
       "Type                                             599.3906   1.72e+04      0.035      0.972   -3.32e+04    3.44e+04\n",
       "Revenue                                          965.5019   2703.423      0.357      0.721   -4342.829    6273.833\n",
       "Basic_Pay                                          0.9772      0.009    111.807      0.000       0.960       0.994\n",
       "Rating                                          3.999e+04   1.62e+04      2.464      0.014    8121.349    7.19e+04\n",
       "Positive                                         416.4228    455.901      0.913      0.361    -478.766    1311.612\n",
       "Online                                            56.2927    541.623      0.104      0.917   -1007.217    1119.803\n",
       "Industry_Banking/Finance                       -5.444e+04   2.23e+04     -2.445      0.015   -9.81e+04   -1.07e+04\n",
       "Industry_Cable, Internet & Telephone Providers  6697.0360   7.86e+04      0.085      0.932   -1.48e+05    1.61e+05\n",
       "Industry_Consulting                            -1.485e+04   2.43e+04     -0.611      0.541   -6.26e+04    3.29e+04\n",
       "Industry_Education                             -1.052e+04   5.12e+04     -0.206      0.837   -1.11e+05    8.99e+04\n",
       "Industry_Film Production & Distribution         5.333e+04   7.92e+04      0.674      0.501   -1.02e+05    2.09e+05\n",
       "Industry_General Merchandise & Superstores      2.063e+05   9.18e+04      2.248      0.025    2.61e+04    3.87e+05\n",
       "Industry_Government Agencies                   -2.074e+04    3.4e+04     -0.611      0.542   -8.74e+04    4.59e+04\n",
       "Industry_Healthcare Medicine                   -4.668e+04    3.8e+04     -1.229      0.220   -1.21e+05    2.79e+04\n",
       "Industry_Information Technology                -3.284e+04   1.68e+04     -1.956      0.051   -6.58e+04     129.146\n",
       "Industry_Manufacturing                         -2.983e+04   2.75e+04     -1.085      0.278   -8.38e+04    2.42e+04\n",
       "Industry_Outsource                             -9754.0508   3.63e+04     -0.268      0.788   -8.11e+04    6.16e+04\n",
       "Industry_Real Estate                           -3.852e+04   7.86e+04     -0.490      0.624   -1.93e+05    1.16e+05\n",
       "Industry_Telecommunication/Television          -3.895e+04   5.13e+04     -0.760      0.448    -1.4e+05    6.17e+04\n",
       "Industry_Transportation                        -6.581e+04   4.16e+04     -1.581      0.114   -1.48e+05    1.59e+04\n",
       "City_Banglore                                  -1.541e+04   2.15e+04     -0.718      0.473   -5.76e+04    2.67e+04\n",
       "City_Mumbai                                    -2.305e+04   2.23e+04     -1.036      0.301   -6.68e+04    2.06e+04\n",
       "City_Pune                                      -5.812e+04   2.41e+04     -2.409      0.016   -1.05e+05   -1.08e+04\n",
       "==============================================================================\n",
       "Omnibus:                      544.718   Durbin-Watson:                   1.992\n",
       "Prob(Omnibus):                  0.000   Jarque-Bera (JB):            54704.096\n",
       "Skew:                          -2.835   Prob(JB):                         0.00\n",
       "Kurtosis:                      46.411   Cond. No.                     5.79e+21\n",
       "==============================================================================\n",
       "\n",
       "Warnings:\n",
       "[1] Standard Errors assume that the covariance matrix of the errors is correctly specified.\n",
       "[2] The smallest eigenvalue is 3.39e-29. This might indicate that there are\n",
       "strong multicollinearity problems or that the design matrix is singular.\n",
       "\"\"\""
      ]
     },
     "execution_count": 14,
     "metadata": {},
     "output_type": "execute_result"
    }
   ],
   "source": [
    "import statsmodels.api as sm\n",
    "X_sm = X1 = sm.add_constant(X)\n",
    "model = sm.OLS(y,X_sm)\n",
    "model.fit().summary()"
   ]
  },
  {
   "cell_type": "markdown",
   "metadata": {},
   "source": [
    "### Linear Regression"
   ]
  },
  {
   "cell_type": "code",
   "execution_count": 15,
   "metadata": {},
   "outputs": [
    {
     "name": "stdout",
     "output_type": "stream",
     "text": [
      "Training Score => 0.9483263164034806\n",
      "Testing Score  => 0.9747837340519931\n",
      "Training neg_mean_absolute_error => -73374.03850573851\n",
      "Testing neg_mean_absolute_error => -1.1837835139793493e+17\n"
     ]
    }
   ],
   "source": [
    "from sklearn.linear_model import LinearRegression\n",
    "from sklearn.model_selection import cross_val_score\n",
    "\n",
    "linear_reg=LinearRegression()\n",
    "linear_reg.fit(X_train,y_train)\n",
    "print(\"Training Score =>\", linear_reg.score(X_train,y_train))\n",
    "print(\"Testing Score  =>\",linear_reg.score(X_test,y_test))\n",
    "MAE=np.mean(cross_val_score(linear_reg,X_train,y_train, scoring = 'neg_mean_absolute_error', cv= 5))\n",
    "print(\"Training neg_mean_absolute_error =>\",MAE)\n",
    "\n",
    "MAE1=np.mean(cross_val_score(linear_reg,X_test,y_test, scoring = 'neg_mean_absolute_error', cv= 5))\n",
    "print(\"Testing neg_mean_absolute_error =>\",MAE1)"
   ]
  },
  {
   "cell_type": "markdown",
   "metadata": {},
   "source": [
    "### Lasso regression "
   ]
  },
  {
   "cell_type": "code",
   "execution_count": 16,
   "metadata": {},
   "outputs": [
    {
     "name": "stdout",
     "output_type": "stream",
     "text": [
      "Training Score => 0.9483263164024092\n",
      "Testing Score  => 0.974783805280125\n",
      "Training neg_mean_absolute_error => -73445.90630194223\n",
      "Testing neg_mean_absolute_error => -73692.25097303579\n"
     ]
    }
   ],
   "source": [
    "from sklearn.linear_model import Lasso\n",
    "lasso_reg = Lasso(alpha=.13)\n",
    "lasso_reg.fit(X_train,y_train)\n",
    "print(\"Training Score =>\", lasso_reg.score(X_train,y_train))\n",
    "print(\"Testing Score  =>\",lasso_reg.score(X_test,y_test))\n",
    "MAE=np.mean(cross_val_score(lasso_reg,X_train,y_train, scoring = 'neg_mean_absolute_error', cv= 5))\n",
    "print(\"Training neg_mean_absolute_error =>\",MAE)\n",
    "\n",
    "MAE1=np.mean(cross_val_score(lasso_reg,X_test,y_test, scoring = 'neg_mean_absolute_error', cv= 5))\n",
    "print(\"Testing neg_mean_absolute_error =>\",MAE1)"
   ]
  },
  {
   "cell_type": "code",
   "execution_count": 17,
   "metadata": {},
   "outputs": [
    {
     "data": {
      "text/plain": [
       "[<matplotlib.lines.Line2D at 0x1ebc6667a90>]"
      ]
     },
     "execution_count": 17,
     "metadata": {},
     "output_type": "execute_result"
    },
    {
     "data": {
      "image/png": "[encoded data removed]",
      "text/plain": [
       "<Figure size 432x288 with 1 Axes>"
      ]
     },
     "metadata": {
      "needs_background": "light"
     },
     "output_type": "display_data"
    }
   ],
   "source": [
    "alpha = []\n",
    "error = []\n",
    "\n",
    "for i in range(1,100):\n",
    "    alpha.append(i/100)\n",
    "    lasso_reg = Lasso(alpha=(i/100))\n",
    "    error.append(np.mean(cross_val_score(lasso_reg,X_train,y_train, scoring = 'neg_mean_absolute_error', cv= 5)))\n",
    "    \n",
    "plt.plot(alpha,error)"
   ]
  },
  {
   "cell_type": "code",
   "execution_count": 18,
   "metadata": {},
   "outputs": [
    {
     "data": {
      "text/html": [
       "<div>\n",
       "<style scoped>\n",
       "    .dataframe tbody tr th:only-of-type {\n",
       "        vertical-align: middle;\n",
       "    }\n",
       "\n",
       "    .dataframe tbody tr th {\n",
       "        vertical-align: top;\n",
       "    }\n",
       "\n",
       "    .dataframe thead th {\n",
       "        text-align: right;\n",
       "    }\n",
       "</style>\n",
       "<table border=\"1\" class=\"dataframe\">\n",
       "  <thead>\n",
       "    <tr style=\"text-align: right;\">\n",
       "      <th></th>\n",
       "      <th>alpha</th>\n",
       "      <th>error</th>\n",
       "    </tr>\n",
       "  </thead>\n",
       "  <tbody>\n",
       "    <tr>\n",
       "      <th>98</th>\n",
       "      <td>0.99</td>\n",
       "      <td>-73444.192242</td>\n",
       "    </tr>\n",
       "  </tbody>\n",
       "</table>\n",
       "</div>"
      ],
      "text/plain": [
       "    alpha         error\n",
       "98   0.99 -73444.192242"
      ]
     },
     "execution_count": 18,
     "metadata": {},
     "output_type": "execute_result"
    }
   ],
   "source": [
    "err = tuple(zip(alpha,error))\n",
    "df_err = pd.DataFrame(err, columns = ['alpha','error'])\n",
    "df_err[df_err.error == max(df_err.error)]"
   ]
  },
  {
   "cell_type": "code",
   "execution_count": 19,
   "metadata": {},
   "outputs": [
    {
     "name": "stdout",
     "output_type": "stream",
     "text": [
      "Training Score => 0.9483263163413428\n",
      "Testing Score  => 0.9747842764190575\n",
      "Training neg_mean_absolute_error => -73444.1922415292\n",
      "Testing neg_mean_absolute_error => -73703.57966846217\n"
     ]
    }
   ],
   "source": [
    "# Tuned lasso regression \n",
    "lasso_reg = Lasso(alpha=.99)\n",
    "lasso_reg.fit(X_train,y_train)\n",
    "print(\"Training Score =>\", lasso_reg.score(X_train,y_train))\n",
    "print(\"Testing Score  =>\",lasso_reg.score(X_test,y_test))\n",
    "MAE=np.mean(cross_val_score(lasso_reg,X_train,y_train, scoring = 'neg_mean_absolute_error', cv= 5))\n",
    "print(\"Training neg_mean_absolute_error =>\",MAE)\n",
    "\n",
    "MAE1=np.mean(cross_val_score(lasso_reg,X_test,y_test, scoring = 'neg_mean_absolute_error', cv= 5))\n",
    "print(\"Testing neg_mean_absolute_error =>\",MAE1)"
   ]
  },
  {
   "cell_type": "markdown",
   "metadata": {},
   "source": [
    "### Random Forest"
   ]
  },
  {
   "cell_type": "code",
   "execution_count": 20,
   "metadata": {},
   "outputs": [
    {
     "name": "stdout",
     "output_type": "stream",
     "text": [
      "Training Score => 0.9919473415466253\n",
      "Testing Score  => 0.971121242947973\n",
      "Training neg_mean_absolute_error => -78670.16297529606\n",
      "Testing neg_mean_absolute_error => -83535.6472537037\n"
     ]
    }
   ],
   "source": [
    "from sklearn.ensemble import RandomForestRegressor\n",
    "rand_for = RandomForestRegressor()\n",
    "rand_for.fit(X_train,y_train)\n",
    "print(\"Training Score =>\", rand_for.score(X_train,y_train))\n",
    "print(\"Testing Score  =>\",rand_for.score(X_test,y_test))\n",
    "\n",
    "MAE_train=np.mean(cross_val_score(rand_for,X_train,y_train, scoring = 'neg_mean_absolute_error', cv= 5))\n",
    "print(\"Training neg_mean_absolute_error =>\",MAE_train)\n",
    "\n",
    "MAE_test=np.mean(cross_val_score(rand_for,X_test,y_test, scoring = 'neg_mean_absolute_error', cv= 5))\n",
    "print(\"Testing neg_mean_absolute_error =>\",MAE_test)"
   ]
  },
  {
   "cell_type": "code",
   "execution_count": 21,
   "metadata": {},
   "outputs": [
    {
     "name": "stdout",
     "output_type": "stream",
     "text": [
      "RandomForestRegressor(n_estimators=150)\n"
     ]
    }
   ],
   "source": [
    "## Tunning Of Random Forest\n",
    "\n",
    "from sklearn.model_selection import GridSearchCV\n",
    "\n",
    "parameters = {'n_estimators':range(10,500,10), 'criterion':('mse','mae'), 'max_features':('auto','sqrt','log2')}\n",
    "tune_rand_for = GridSearchCV(rand_for,parameters,scoring='neg_mean_absolute_error',cv=5)\n",
    "tune_rand_for.fit(X_train,y_train)\n",
    "tune_rand_for.best_score_\n",
    "print(tune_rand_for.best_estimator_)"
   ]
  },
  {
   "cell_type": "markdown",
   "metadata": {},
   "source": [
    "### Tuned RandomForestRegressor"
   ]
  },
  {
   "cell_type": "code",
   "execution_count": 22,
   "metadata": {},
   "outputs": [
    {
     "name": "stdout",
     "output_type": "stream",
     "text": [
      "Training Score=> 0.9918006851207064\n",
      "Testing Score => 0.9704436203535548\n",
      "training neg_mean_absolute_error => -77569.86553004172\n",
      "Testing neg_mean_absolute_error => -81149.04383851853\n"
     ]
    }
   ],
   "source": [
    "print(\"Training Score=>\",tune_rand_for.best_estimator_.score(X_train,y_train))\n",
    "print(\"Testing Score =>\",tune_rand_for.best_estimator_.score(X_test,y_test))\n",
    "\n",
    "MAE_train=np.mean(cross_val_score(tune_rand_for.best_estimator_,X_train,y_train, scoring = 'neg_mean_absolute_error', cv= 5))\n",
    "print(\"training neg_mean_absolute_error =>\",MAE_train)\n",
    "\n",
    "MAE_test=np.mean(cross_val_score(tune_rand_for.best_estimator_,X_test,y_test, scoring = 'neg_mean_absolute_error', cv= 5))\n",
    "print(\"Testing neg_mean_absolute_error =>\",MAE_test)\n"
   ]
  },
  {
   "cell_type": "markdown",
   "metadata": {},
   "source": [
    "### ExtraTreesRegressor"
   ]
  },
  {
   "cell_type": "code",
   "execution_count": 23,
   "metadata": {},
   "outputs": [
    {
     "name": "stdout",
     "output_type": "stream",
     "text": [
      "Training Score 0.9834400206174383\n",
      "Testing Score 0.9705986500083562\n",
      "neg_mean_absolute_error => -78016.52435151875\n",
      "neg_mean_absolute_error => -70643.18567127948\n"
     ]
    }
   ],
   "source": [
    "from sklearn.ensemble import ExtraTreesRegressor\n",
    "\n",
    "Extra_Tree = ExtraTreesRegressor(n_estimators=300,min_samples_split=8, random_state=0).fit(X_train, y_train)\n",
    "\n",
    "print(\"Training Score\",Extra_Tree.score(X_train,y_train))\n",
    "print(\"Testing Score\",Extra_Tree.score(X_test,y_test))\n",
    "\n",
    "MAE_train=np.mean(cross_val_score(Extra_Tree,X_train,y_train, scoring = 'neg_mean_absolute_error', cv= 5))\n",
    "print(\"neg_mean_absolute_error =>\",MAE_train)\n",
    "\n",
    "MAE_test=np.mean(cross_val_score(Extra_Tree,X_test,y_test, scoring = 'neg_mean_absolute_error', cv= 5))\n",
    "print(\"neg_mean_absolute_error =>\",MAE_test)"
   ]
  },
  {
   "cell_type": "markdown",
   "metadata": {},
   "source": [
    "### Mean Absolute Error"
   ]
  },
  {
   "cell_type": "code",
   "execution_count": 24,
   "metadata": {},
   "outputs": [
    {
     "name": "stdout",
     "output_type": "stream",
     "text": [
      "Linear Reg   => 67342.64891502185\n",
      "Lasso Reg    => 67339.91706031318\n",
      "random Forest=> 59280.83981119223\n",
      "Extra Tree   => 62340.91419532745\n"
     ]
    }
   ],
   "source": [
    "from sklearn.metrics import mean_absolute_error\n",
    "\n",
    "y_pred_LR=linear_reg.predict(X_test)\n",
    "y_pred_ls=lasso_reg.predict(X_test)\n",
    "y_pred_RF=tune_rand_for.best_estimator_.predict(X_test)\n",
    "y_pred_ExTr=Extra_Tree.predict(X_test)\n",
    "\n",
    "print(\"Linear Reg   =>\",mean_absolute_error(y_test,y_pred_LR))\n",
    "print(\"Lasso Reg    =>\", mean_absolute_error(y_test,y_pred_ls))\n",
    "print(\"random Forest=>\",mean_absolute_error(y_test,y_pred_RF))\n",
    "print(\"Extra Tree   =>\",mean_absolute_error(y_test,y_pred_ExTr))"
   ]
  },
  {
   "cell_type": "code",
   "execution_count": 37,
   "metadata": {},
   "outputs": [],
   "source": [
    "import pickle\n",
    "pickle.dump(tune_rand_for.best_estimator_.predict,open(\"model3.pkl\",\"wb\"))\n",
    "model=pickle.load(open(\"model2.pkl\",\"rb\"))"
   ]
  },
  {
   "cell_type": "code",
   "execution_count": 38,
   "metadata": {},
   "outputs": [
    {
     "data": {
      "text/plain": [
       "0.9747842764190575"
      ]
     },
     "execution_count": 38,
     "metadata": {},
     "output_type": "execute_result"
    }
   ],
   "source": [
    "y_pred=model.predict(X_test)\n",
    "model.score(X_test,y_test)"
   ]
  },
  {
   "cell_type": "code",
   "execution_count": 40,
   "metadata": {},
   "outputs": [
    {
     "name": "stdout",
     "output_type": "stream",
     "text": [
      "===Residual Plot===\n"
     ]
    },
    {
     "data": {
      "image/png": "[encoded data removed]",
      "text/plain": [
       "<Figure size 432x288 with 1 Axes>"
      ]
     },
     "metadata": {
      "needs_background": "light"
     },
     "output_type": "display_data"
    }
   ],
   "source": [
    "print(\"===Residual Plot===\")\n",
    "Resd=y_test-y_pred\n",
    "import numpy as np\n",
    "import seaborn as sns\n",
    "# Plot the residuals after fitting a linear model\n",
    "sns.residplot(x=y_pred, y=Resd, lowess=True, color=\"b\")\n",
    "plt.xlabel(\"Predicted Values\")\n",
    "plt.ylabel(\"Residuals\")\n",
    "plt.grid()\n",
    "plt.show()"
   ]
  },
  {
   "cell_type": "code",
   "execution_count": 32,
   "metadata": {},
   "outputs": [
    {
     "name": "stdout",
     "output_type": "stream",
     "text": [
      "===Compare the performance of various models===\n"
     ]
    },
    {
     "data": {
      "text/html": [
       "<div>\n",
       "<style scoped>\n",
       "    .dataframe tbody tr th:only-of-type {\n",
       "        vertical-align: middle;\n",
       "    }\n",
       "\n",
       "    .dataframe tbody tr th {\n",
       "        vertical-align: top;\n",
       "    }\n",
       "\n",
       "    .dataframe thead th {\n",
       "        text-align: right;\n",
       "    }\n",
       "</style>\n",
       "<table border=\"1\" class=\"dataframe\">\n",
       "  <thead>\n",
       "    <tr style=\"text-align: right;\">\n",
       "      <th></th>\n",
       "      <th>Linear Regression</th>\n",
       "      <th>Lasso Regression</th>\n",
       "      <th>Random Forest</th>\n",
       "      <th>Extra Tress Regressor</th>\n",
       "    </tr>\n",
       "  </thead>\n",
       "  <tbody>\n",
       "    <tr>\n",
       "      <th>R Sqaure Training</th>\n",
       "      <td>0.95000</td>\n",
       "      <td>0.95000</td>\n",
       "      <td>0.99000</td>\n",
       "      <td>0.98000</td>\n",
       "    </tr>\n",
       "    <tr>\n",
       "      <th>R Sqaure Testing</th>\n",
       "      <td>0.97000</td>\n",
       "      <td>0.97000</td>\n",
       "      <td>0.97000</td>\n",
       "      <td>0.97000</td>\n",
       "    </tr>\n",
       "    <tr>\n",
       "      <th>NMAE Training</th>\n",
       "      <td>-73374.04000</td>\n",
       "      <td>-73444.19000</td>\n",
       "      <td>-78415.48000</td>\n",
       "      <td>-78465.43000</td>\n",
       "    </tr>\n",
       "    <tr>\n",
       "      <th>NMAE Testing</th>\n",
       "      <td>-118000000000000000.00000</td>\n",
       "      <td>-73703.58000</td>\n",
       "      <td>-79952.92000</td>\n",
       "      <td>-70819.80000</td>\n",
       "    </tr>\n",
       "    <tr>\n",
       "      <th>MAE</th>\n",
       "      <td>67342.65000</td>\n",
       "      <td>67339.92000</td>\n",
       "      <td>59391.69000</td>\n",
       "      <td>62112.87000</td>\n",
       "    </tr>\n",
       "  </tbody>\n",
       "</table>\n",
       "</div>"
      ],
      "text/plain": [
       "                          Linear Regression  Lasso Regression  Random Forest  \\\n",
       "R Sqaure Training                   0.95000           0.95000        0.99000   \n",
       "R Sqaure Testing                    0.97000           0.97000        0.97000   \n",
       "NMAE Training                  -73374.04000      -73444.19000   -78415.48000   \n",
       "NMAE Testing      -118000000000000000.00000      -73703.58000   -79952.92000   \n",
       "MAE                             67342.65000       67339.92000    59391.69000   \n",
       "\n",
       "                   Extra Tress Regressor  \n",
       "R Sqaure Training                0.98000  \n",
       "R Sqaure Testing                 0.97000  \n",
       "NMAE Training               -78465.43000  \n",
       "NMAE Testing                -70819.80000  \n",
       "MAE                          62112.87000  "
      ]
     },
     "execution_count": 32,
     "metadata": {},
     "output_type": "execute_result"
    }
   ],
   "source": [
    "print(\"===Compare the performance of various models===\")\n",
    "\n",
    "result=pd.DataFrame({\"Linear Regression\":[0.95,0.97,-73374.04,-1.18E+17,67342.65],\n",
    "                    \"Lasso Regression\":[0.95,0.97,-73444.19,-73703.58,67339.92],\n",
    "                    \"Random Forest\":[0.99,0.97,-78415.48,-79952.92,59391.69],\n",
    "                    \"Extra Tress Regressor\":[0.98,0.97,-78465.43,-70819.80,62112.87]})\n",
    "result.index = [\"R Sqaure Training\",\"R Sqaure Testing\",\"NMAE Training\",\"NMAE Testing\",\"MAE\"]\n",
    "pd.set_option('display.float_format', lambda x: '%.5f' % x)\n",
    "result"
   ]
  },
  {
   "cell_type": "code",
   "execution_count": null,
   "metadata": {},
   "outputs": [],
   "source": []
  }
 ],
 "metadata": {
  "kernelspec": {
   "display_name": "Python 3",
   "language": "python",
   "name": "python3"
  },
  "language_info": {
   "codemirror_mode": {
    "name": "ipython",
    "version": 3
   },
   "file_extension": ".py",
   "mimetype": "text/x-python",
   "name": "python",
   "nbconvert_exporter": "python",
   "pygments_lexer": "ipython3",
   "version": "3.8.3"
  }
 },
 "nbformat": 4,
 "nbformat_minor": 4
}
